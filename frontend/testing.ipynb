{
 "cells": [
  {
   "cell_type": "code",
   "execution_count": 133,
   "metadata": {},
   "outputs": [
    {
     "name": "stdout",
     "output_type": "stream",
     "text": [
      "200 {'msg': 'Tournament created'}\n"
     ]
    }
   ],
   "source": [
    "import requests\n",
    "\n",
    "res = requests.post(\"http://localhost:8000/tournament/create\", json={\"name\": \"SummerCup2\"})\n",
    "print(res.status_code, res.json())"
   ]
  },
  {
   "cell_type": "code",
   "execution_count": 108,
   "metadata": {},
   "outputs": [
    {
     "name": "stdout",
     "output_type": "stream",
     "text": [
      "200 {'available_tournaments': ['SummerCup']}\n"
     ]
    }
   ],
   "source": [
    "res = requests.get(\"http://localhost:8000/tournament/available\")\n",
    "print(res.status_code, res.json())"
   ]
  },
  {
   "cell_type": "code",
   "execution_count": 48,
   "metadata": {},
   "outputs": [
    {
     "name": "stdout",
     "output_type": "stream",
     "text": [
      "400 {'detail': 'Tournament is already closed'}\n"
     ]
    }
   ],
   "source": [
    "res = requests.post(\"http://localhost:8000/tournament/close\", json={\"name\": \"SummerCup\"})\n",
    "print(res.status_code, res.json())"
   ]
  },
  {
   "cell_type": "code",
   "execution_count": 119,
   "metadata": {},
   "outputs": [
    {
     "name": "stdout",
     "output_type": "stream",
     "text": [
      "200 {'msg': 'Username player_1 already exists'}\n",
      "200 {'msg': 'Username player_2 already exists'}\n",
      "200 {'msg': 'Username player_3 already exists'}\n",
      "200 {'msg': 'Username player_4 already exists'}\n",
      "200 {'msg': 'Username player_5 already exists'}\n",
      "200 {'msg': 'Username player_6 already exists'}\n",
      "200 {'msg': 'Username player_7 already exists'}\n",
      "200 {'msg': 'Username player_8 already exists'}\n",
      "200 {'msg': 'Username player_9 already exists'}\n"
     ]
    }
   ],
   "source": [
    "for i in range(1,10): \n",
    "    res = requests.post(\"http://localhost:8000/tournament/join\", json={\n",
    "            \"username\": f'player_{i}',\n",
    "            \"tournament_name\": \"SummerCup\"\n",
    "        })\n",
    "    print(f\"{res.status_code} {res.json()}\")"
   ]
  },
  {
   "cell_type": "code",
   "execution_count": 13,
   "metadata": {},
   "outputs": [
    {
     "name": "stdout",
     "output_type": "stream",
     "text": [
      "alice: 200 {'msg': 'Username alice already exists'}\n",
      "bob: 200 {'msg': 'Username bob already exists'}\n",
      "carol: 200 {'msg': 'Username carol already exists'}\n",
      "dave: 200 {'msg': 'Username dave already exists'}\n"
     ]
    }
   ],
   "source": [
    "players = [\"alice\", \"bob\", \"carol\", \"dave\"]\n",
    "for player in players:\n",
    "    res = requests.post(\"http://localhost:8000/join/\", json={\n",
    "        \"username\": player,\n",
    "        \"tournament_name\": \"SpringCup\"\n",
    "    })\n",
    "    print(f\"{player}: {res.status_code} {res.json()}\")\n"
   ]
  },
  {
   "cell_type": "code",
   "execution_count": 110,
   "metadata": {},
   "outputs": [
    {
     "name": "stdout",
     "output_type": "stream",
     "text": [
      "400 {'detail': 'Cannot pair players while matches are still ongoing'}\n"
     ]
    }
   ],
   "source": [
    "res = requests.post(\"http://localhost:8000/pair/\", params={\"tournament_name\": \"SummerCup\"})\n",
    "print(res.status_code, res.json())\n"
   ]
  },
  {
   "cell_type": "code",
   "execution_count": 104,
   "metadata": {},
   "outputs": [
    {
     "name": "stdout",
     "output_type": "stream",
     "text": [
      "200 {'msg': 'YOUR TURN', 'board': [[0, 0, 0, 0, 0, 0, 0, 0], [0, 0, 0, 0, 0, 0, 0, 0], [0, -1, -1, -1, 0, 0, 0, 0], [0, 0, 0, 1, -1, 0, 0, 0], [0, 0, 0, -1, 1, 0, 0, 0], [0, 0, 0, 0, 0, 0, 0, 0], [0, 0, 0, 0, 0, 0, 0, 0], [0, 0, 0, 0, 0, 0, 0, 0]]}\n"
     ]
    }
   ],
   "source": [
    "res = requests.post(\"http://localhost:8000/match/status\", json={\"username\" : \"player_5\", \"tournament_name\": \"SummerCup\"})\n",
    "print(res.status_code, res.json())"
   ]
  },
  {
   "cell_type": "code",
   "execution_count": 105,
   "metadata": {},
   "outputs": [
    {
     "name": "stdout",
     "output_type": "stream",
     "text": [
      "200 {'valid_movements': [[1, 1], [1, 3], [2, 4], [3, 5], [4, 2], [5, 3]]}\n"
     ]
    }
   ],
   "source": [
    "res = requests.post(\"http://localhost:8000/match/valid-movements\", json={\"username\" : \"player_5\", \"tournament_name\": \"SummerCup\"})\n",
    "print(res.status_code, res.json())"
   ]
  },
  {
   "cell_type": "code",
   "execution_count": null,
   "metadata": {},
   "outputs": [
    {
     "name": "stdout",
     "output_type": "stream",
     "text": [
      "200 {'msg': 'Move accepted'}\n"
     ]
    }
   ],
   "source": [
    "res = requests.post(\"http://localhost:8000/match/move\", json={\"username\" : \"player_5\", \"tournament_name\": \"SummerCup\", \"x\" : 1, \"y\": 1})\n",
    "print(res.status_code, res.json())"
   ]
  },
  {
   "cell_type": "code",
   "execution_count": 117,
   "metadata": {},
   "outputs": [
    {
     "name": "stdout",
     "output_type": "stream",
     "text": [
      "200 {'matches': [{'_id': '68218eebea9086900321d19b', 'black_player': {'name': 'player_9', 'wins': 0, 'draws': 0, 'loses': 0, 'pieces_diff': 0}, 'white_player': {'name': 'player_4', 'wins': 0, 'draws': 0, 'loses': 0, 'pieces_diff': 0}, 'board': [[0, 0, 0, 0, 0, 0, 0, 0], [0, 0, 0, 0, 0, 0, 0, 0], [0, 0, 0, 0, 0, 0, 0, 0], [0, 0, 0, 1, -1, 0, 0, 0], [0, 0, 0, -1, 1, 0, 0, 0], [0, 0, 0, 0, 0, 0, 0, 0], [0, 0, 0, 0, 0, 0, 0, 0], [0, 0, 0, 0, 0, 0, 0, 0]], 'status': 'ongoing', 'turn': 'black', 'black_strikes': 0, 'white_strikes': 0, 'tournament_name': 'SummerCup'}, {'_id': '68218eebea9086900321d19c', 'black_player': {'name': 'player_7', 'wins': 0, 'draws': 0, 'loses': 0, 'pieces_diff': 0}, 'white_player': {'name': 'player_1', 'wins': 0, 'draws': 0, 'loses': 0, 'pieces_diff': 0}, 'board': [[0, 0, 0, 0, 0, 0, 0, 0], [0, 0, 0, 0, 0, 0, 0, 0], [0, 0, 0, 0, 0, 0, 0, 0], [0, 0, 0, 1, -1, 0, 0, 0], [0, 0, 0, -1, 1, 0, 0, 0], [0, 0, 0, 0, 0, 0, 0, 0], [0, 0, 0, 0, 0, 0, 0, 0], [0, 0, 0, 0, 0, 0, 0, 0]], 'status': 'ongoing', 'turn': 'black', 'black_strikes': 0, 'white_strikes': 0, 'tournament_name': 'SummerCup'}, {'_id': '68218eebea9086900321d19d', 'black_player': {'name': 'player_5', 'wins': 0, 'draws': 0, 'loses': 0, 'pieces_diff': 0}, 'white_player': {'name': 'player_6', 'wins': 0, 'draws': 0, 'loses': 0, 'pieces_diff': 0}, 'board': [[0, 0, 0, 0, 0, 0, 0, 0], [0, 0, 0, 0, 0, 0, 0, 0], [0, 0, 0, 0, 0, 0, 0, 0], [0, 0, 0, 1, -1, 0, 0, 0], [0, 0, 0, -1, 1, 0, 0, 0], [0, 0, 0, 0, 0, 0, 0, 0], [0, 0, 0, 0, 0, 0, 0, 0], [0, 0, 0, 0, 0, 0, 0, 0]], 'status': 'ongoing', 'turn': 'black', 'black_strikes': 0, 'white_strikes': 0, 'tournament_name': 'SummerCup'}, {'_id': '68218eebea9086900321d19e', 'black_player': {'name': 'player_3', 'wins': 0, 'draws': 0, 'loses': 0, 'pieces_diff': 0}, 'white_player': {'name': 'player_8', 'wins': 0, 'draws': 0, 'loses': 0, 'pieces_diff': 0}, 'board': [[0, 0, 0, 0, 0, 0, 0, 0], [0, 0, 0, 0, 0, 0, 0, 0], [0, 0, 0, 0, 0, 0, 0, 0], [0, 0, 0, 1, -1, 0, 0, 0], [0, 0, 0, -1, 1, 0, 0, 0], [0, 0, 0, 0, 0, 0, 0, 0], [0, 0, 0, 0, 0, 0, 0, 0], [0, 0, 0, 0, 0, 0, 0, 0]], 'status': 'ongoing', 'turn': 'black', 'black_strikes': 0, 'white_strikes': 0, 'tournament_name': 'SummerCup'}]}\n"
     ]
    }
   ],
   "source": [
    "res = requests.get(\"http://localhost:8000/tournament/matches/SummerCup\") \n",
    "\n",
    "print(res.status_code, res.json())"
   ]
  },
  {
   "cell_type": "code",
   "execution_count": 151,
   "metadata": {},
   "outputs": [
    {
     "data": {
      "text/plain": [
       "{'msg': 'YOUR TURN',\n",
       " 'board': [[1, 1, 1, 1, 1, 1, -1, -1],\n",
       "  [0, 1, 1, 1, 1, 1, 1, -1],\n",
       "  [-1, 1, 1, 1, -1, 1, 1, -1],\n",
       "  [-1, 1, 1, 1, -1, 1, 1, -1],\n",
       "  [-1, 1, -1, 1, 1, 1, -1, -1],\n",
       "  [-1, 1, -1, 1, -1, -1, 1, -1],\n",
       "  [-1, -1, 1, -1, -1, -1, -1, -1],\n",
       "  [-1, -1, -1, -1, -1, -1, -1, -1]],\n",
       " 'player_color': 1}"
      ]
     },
     "execution_count": 151,
     "metadata": {},
     "output_type": "execute_result"
    }
   ],
   "source": [
    "req = requests.post(\"http://localhost:8000/match/status\", json = {\n",
    "    'username' : 'player_2'\n",
    "    , 'tournament_name' : 'pruebaF'\n",
    "})\n",
    "req.json()"
   ]
  },
  {
   "cell_type": "code",
   "execution_count": 131,
   "metadata": {},
   "outputs": [],
   "source": [
    "req = requests.post(\"http://localhost:8000/match/active\", json = {\n",
    "                'username' : 'player_1' \n",
    "                , 'tournament_name' : 'prueba_5'\n",
    "            })"
   ]
  },
  {
   "cell_type": "code",
   "execution_count": 148,
   "metadata": {},
   "outputs": [
    {
     "name": "stdout",
     "output_type": "stream",
     "text": [
      "200 {'msg': 'Move accepted'}\n"
     ]
    }
   ],
   "source": [
    "res = requests.post(\"http://localhost:8000/match/move\", json={\n",
    "    'username' : 'player_2'\n",
    "    , 'tournament_name' : 'pruebaE'\n",
    "    , \"x\" : 5\n",
    "    , \"y\": 4\n",
    "})\n",
    "print(res.status_code, res.json())"
   ]
  },
  {
   "cell_type": "code",
   "execution_count": 2,
   "metadata": {},
   "outputs": [],
   "source": [
    "import requests"
   ]
  },
  {
   "cell_type": "code",
   "execution_count": 3,
   "metadata": {},
   "outputs": [
    {
     "name": "stdout",
     "output_type": "stream",
     "text": [
      "200 {'available_tournaments': ['pruebaB', 'pruebaC', 'pruebaD', 'pruebaE', 'pruebaF', 'pruebaG', 'prueba_genezio']}\n"
     ]
    }
   ],
   "source": [
    "BASE_URL = 'https://7b679617-8c6b-4d0f-bb51-0505412c6c17.us-east-1.cloud.genez.io'\n",
    "res = requests.get(f\"{BASE_URL}/tournament/available\")\n",
    "print(res.status_code, res.json())"
   ]
  },
  {
   "cell_type": "code",
   "execution_count": 5,
   "metadata": {},
   "outputs": [
    {
     "name": "stdout",
     "output_type": "stream",
     "text": [
      "200 {'msg': 'JavierFong joined PruebaUVG2'}\n"
     ]
    }
   ],
   "source": [
    "res = requests.post(f\"{BASE_URL}/tournament/join\", json = {\n",
    "    'username' : 'JavierFong'\n",
    "    , 'tournament_name' : 'PruebaUVG2'\n",
    "})\n",
    "print(res.status_code, res.json())"
   ]
  },
  {
   "cell_type": "code",
   "execution_count": null,
   "metadata": {},
   "outputs": [],
   "source": []
  }
 ],
 "metadata": {
  "kernelspec": {
   "display_name": "othelloserver",
   "language": "python",
   "name": "othelloserver"
  },
  "language_info": {
   "codemirror_mode": {
    "name": "ipython",
    "version": 3
   },
   "file_extension": ".py",
   "mimetype": "text/x-python",
   "name": "python",
   "nbconvert_exporter": "python",
   "pygments_lexer": "ipython3",
   "version": "3.11.7"
  }
 },
 "nbformat": 4,
 "nbformat_minor": 2
}
